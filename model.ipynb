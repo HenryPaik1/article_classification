{
 "cells": [
  {
   "cell_type": "markdown",
   "metadata": {},
   "source": [
    "# Text topic classification\n",
    "- 크게 두 부분으로 나눌 수 있음\n",
    "- feature 생성과 classifier 선택\n",
    "- feature는 count vector와 TF-IDF방법을 활용\n",
    "- 그외에 해당 문장에 속한 단어의 갯수, 동사/명사/부사 등의 갯수, 특정단어의 갯수 등 numeric value를 가지는 feature 생성\n",
    "\n",
    "## feature\n",
    "- Count Vectors\n",
    "- TF-IDF Vectors\n",
    "    - Word level\n",
    "    - N-Gram level\n",
    "    - Character level\n",
    "\n",
    "## classifier\n",
    "- Naive Bayes Classifier\n",
    "- Linear Classifier\n",
    "- Support Vector Machine\n",
    "- Bagging Models\n",
    "- Boosting Models\n",
    "- Shallow Neural Networks\n",
    "- Deep Neural Networks\n",
    "    - Convolutional Neural Network (CNN)\n",
    "    - Long Short Term Modelr (LSTM)\n",
    "    - Gated Recurrent Unit (GRU)\n",
    "    - Bidirectional RNN\n",
    "    - Recurrent Convolutional Neural Network (RCNN)\n",
    "    - Other Variants of Deep Neural Networks"
   ]
  },
  {
   "cell_type": "markdown",
   "metadata": {},
   "source": [
    "# 기사 category 분류"
   ]
  },
  {
   "cell_type": "code",
   "execution_count": 1,
   "metadata": {},
   "outputs": [],
   "source": [
    "import pickle\n",
    "from sklearn.feature_extraction.text import TfidfVectorizer\n",
    "from sklearn.model_selection import train_test_split\n",
    "from sklearn.naive_bayes import MultinomialNB\n",
    "from sklearn.pipeline import Pipeline\n",
    "from sklearn.preprocessing import LabelEncoder\n",
    "from sklearn.metrics import confusion_matrix\n",
    "from sklearn.metrics import classification_report\n",
    "from sklearn import model_selection, preprocessing, linear_model, naive_bayes, metrics, svm\n",
    "from sklearn import decomposition, ensemble\n",
    "\n",
    "## load the result of crawling data\n",
    "\n",
    "# cat_ls = ['정치','세계','생활문화','사회','경제','IT과학']\n",
    "# data_ls = list()\n",
    "# for cat in cat_ls:\n",
    "#       with open('a_ls_{}.pickle'.format(cat), 'rb') as f:\n",
    "#         temp = pickle.load(f)\n",
    "#         data_ls.append([{'label': cat, 'article': elem} for elem in temp])\n",
    "        \n",
    "# temp_df = pd.DataFrame(data_ls[0])\n",
    "# temp_df = temp_df.append([pd.DataFrame(data_ls[1]), \n",
    "#           pd.DataFrame(data_ls[2]),\n",
    "#           pd.DataFrame(data_ls[3]),\n",
    "#           pd.DataFrame(data_ls[4]), \n",
    "#           pd.DataFrame(data_ls[5])], ignore_index=True)\n",
    "\n",
    "# with open('article_df.pickle', 'wb') as f:\n",
    "#     pickle.dump(temp_df, f)\n",
    "\n",
    "# pandas==0.24\n",
    "with open('article_df.pickle', 'rb') as f:\n",
    "    df = pickle.load(f)        "
   ]
  },
  {
   "cell_type": "code",
   "execution_count": 2,
   "metadata": {},
   "outputs": [
    {
     "name": "stdout",
     "output_type": "stream",
     "text": [
      "                               article label\n",
      "0    文대통령, 반년새 7번 PK행...이번엔 김경수 지사도 만나    정치\n",
      "1     이번엔 수소차…빨라지는 文대통령 '3대 新산업' 육성 행보    정치\n",
      "2            문 대통령 \"미세먼지 원인은 석탄발전·경유차\"    정치\n",
      "3  [전문]文, 환경의날에 \"미세먼지 배출 30%감축·수소차 확대\"    정치\n",
      "4   文정부, 800만 달러 첫 대북 인도적 지원···쌀도 추진 중    정치\n"
     ]
    }
   ],
   "source": [
    "print(df.head())"
   ]
  },
  {
   "cell_type": "code",
   "execution_count": 3,
   "metadata": {},
   "outputs": [
    {
     "name": "stdout",
     "output_type": "stream",
     "text": [
      "data size:  10794\n"
     ]
    }
   ],
   "source": [
    "print('data size: ', len(df))"
   ]
  },
  {
   "cell_type": "code",
   "execution_count": 4,
   "metadata": {
    "scrolled": true
   },
   "outputs": [
    {
     "name": "stdout",
     "output_type": "stream",
     "text": [
      " size of x_train:,  8635 \n",
      " size of y_train:,  8635\n"
     ]
    }
   ],
   "source": [
    "x = df['article']\n",
    "y = df['label']\n",
    "lb = LabelEncoder()\n",
    "y_label = lb.fit_transform(y)\n",
    "\n",
    "x_train, x_test, y_train, y_test = train_test_split(x, y_label, test_size=0.2)\n",
    "print(' size of x_train:, ', len(x_train), '\\n', 'size of y_train:, ', len(y_train))"
   ]
  },
  {
   "cell_type": "code",
   "execution_count": 5,
   "metadata": {},
   "outputs": [
    {
     "data": {
      "text/plain": [
       "array(['IT과학', '경제', '사회', '생활문화', '세계', '정치'], dtype=object)"
      ]
     },
     "execution_count": 5,
     "metadata": {},
     "output_type": "execute_result"
    }
   ],
   "source": [
    "lb.classes_"
   ]
  },
  {
   "cell_type": "markdown",
   "metadata": {},
   "source": [
    "# TF-IDF"
   ]
  },
  {
   "cell_type": "code",
   "execution_count": 6,
   "metadata": {},
   "outputs": [
    {
     "name": "stdout",
     "output_type": "stream",
     "text": [
      "              precision    recall  f1-score   support\n",
      "\n",
      "           0       0.76      0.69      0.72       278\n",
      "           1       0.65      0.64      0.64       329\n",
      "           2       0.77      0.69      0.73       376\n",
      "           3       0.83      0.73      0.77       408\n",
      "           4       0.70      0.85      0.77       391\n",
      "           5       0.79      0.86      0.83       377\n",
      "\n",
      "   micro avg       0.75      0.75      0.75      2159\n",
      "   macro avg       0.75      0.74      0.74      2159\n",
      "weighted avg       0.75      0.75      0.75      2159\n",
      "\n"
     ]
    }
   ],
   "source": [
    "clf = Pipeline([\n",
    "    ('vect', TfidfVectorizer()),\n",
    "    ('clf', MultinomialNB(alpha=0.09))])\n",
    "\n",
    "model = clf.fit(x_train, y_train)\n",
    "\n",
    "y_pred = model.predict(x_test)\n",
    "print(classification_report(y_test, y_pred))"
   ]
  },
  {
   "cell_type": "code",
   "execution_count": 7,
   "metadata": {},
   "outputs": [],
   "source": [
    "with open('clf_model.pickle', 'wb') as f:\n",
    "    pickle.dump(model, f)"
   ]
  }
 ],
 "metadata": {
  "kernelspec": {
   "display_name": "Python 3",
   "language": "python",
   "name": "python3"
  },
  "language_info": {
   "codemirror_mode": {
    "name": "ipython",
    "version": 3
   },
   "file_extension": ".py",
   "mimetype": "text/x-python",
   "name": "python",
   "nbconvert_exporter": "python",
   "pygments_lexer": "ipython3",
   "version": "3.6.7"
  }
 },
 "nbformat": 4,
 "nbformat_minor": 2
}
